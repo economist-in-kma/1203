{
  "nbformat": 4,
  "nbformat_minor": 0,
  "metadata": {
    "colab": {
      "name": "nkmap_데이터 시각화 수업 실습 3.ipynb",
      "provenance": [],
      "collapsed_sections": []
    },
    "kernelspec": {
      "name": "python3",
      "display_name": "Python 3"
    }
  },
  "cells": [
    {
      "cell_type": "markdown",
      "metadata": {
        "id": "52niTIkINTGI"
      },
      "source": [
        "# **목표: 재북 출신 지역별 국내 탈북민 수에 따라서 북한 지도를 색칠하기**"
      ]
    },
    {
      "cell_type": "markdown",
      "metadata": {
        "id": "AmxgzEn28wuR"
      },
      "source": [
        "**데이터 다운로드**: shorturl.at/uwR47"
      ]
    },
    {
      "cell_type": "markdown",
      "metadata": {
        "id": "Dx-w_caKIYqk"
      },
      "source": [
        "\n",
        "\n",
        "---\n",
        "\n",
        "\n",
        "\n",
        "```\n",
        "[1] pip install geopandas\n",
        "```\n",
        "\n",
        "\n",
        "\n",
        "---\n",
        "\n",
        "\n",
        "\n",
        "*   pip\n",
        " + **p**acakge **i**nstaller for **p**ython의 줄임말. \n",
        "*   \"pip install\" 을 쓰고 그 뒤에 원하는 패키지를 입력하면 설치가 이루어집니다.\n",
        "*   **geopandas**\n",
        " + 지리공간 데이터를 다루는 파이썬 패키지.\n",
        "       - 일반적인 수치 데이터를 다루던 pandas를 기억하시나요?\n",
        "       - 지리를 의미하는 \"**geo**\" + 파이썬의 대표적인 데이터 관리 패키지 \"**pandas**\"\n",
        "       - 파이썬 스스로는 만들 수 있는 프로그램이 제한적입니다. 그래서 패키지를 설치합니다. geopandas는 누군가 만들어놓은 패키지인데, 우리가 지금 지도 위에 색칠을 하기 위해 필요한 물감, 팔레트, 도화지와 같은 창작용 도구라고 볼 수 있습니다.\n",
        "\n",
        "\n",
        "\n"
      ]
    },
    {
      "cell_type": "code",
      "metadata": {
        "id": "yCJlbj6x8JrB",
        "colab": {
          "base_uri": "https://localhost:8080/",
          "height": 501
        },
        "outputId": "20b6dff5-a071-4578-8aa8-cd68666c4736"
      },
      "source": [
        "pip install geopandas"
      ],
      "execution_count": null,
      "outputs": [
        {
          "output_type": "stream",
          "text": [
            "Collecting geopandas\n",
            "\u001b[?25l  Downloading https://files.pythonhosted.org/packages/f7/a4/e66aafbefcbb717813bf3a355c8c4fc3ed04ea1dd7feb2920f2f4f868921/geopandas-0.8.1-py2.py3-none-any.whl (962kB)\n",
            "\u001b[K     |████████████████████████████████| 972kB 4.4MB/s \n",
            "\u001b[?25hRequirement already satisfied: pandas>=0.23.0 in /usr/local/lib/python3.6/dist-packages (from geopandas) (1.0.5)\n",
            "Collecting pyproj>=2.2.0\n",
            "\u001b[?25l  Downloading https://files.pythonhosted.org/packages/e5/c3/071e080230ac4b6c64f1a2e2f9161c9737a2bc7b683d2c90b024825000c0/pyproj-2.6.1.post1-cp36-cp36m-manylinux2010_x86_64.whl (10.9MB)\n",
            "\u001b[K     |████████████████████████████████| 10.9MB 14.8MB/s \n",
            "\u001b[?25hRequirement already satisfied: shapely in /usr/local/lib/python3.6/dist-packages (from geopandas) (1.7.0)\n",
            "Collecting fiona\n",
            "\u001b[?25l  Downloading https://files.pythonhosted.org/packages/ec/20/4e63bc5c6e62df889297b382c3ccd4a7a488b00946aaaf81a118158c6f09/Fiona-1.8.13.post1-cp36-cp36m-manylinux1_x86_64.whl (14.7MB)\n",
            "\u001b[K     |████████████████████████████████| 14.7MB 308kB/s \n",
            "\u001b[?25hRequirement already satisfied: numpy>=1.13.3 in /usr/local/lib/python3.6/dist-packages (from pandas>=0.23.0->geopandas) (1.18.5)\n",
            "Requirement already satisfied: pytz>=2017.2 in /usr/local/lib/python3.6/dist-packages (from pandas>=0.23.0->geopandas) (2018.9)\n",
            "Requirement already satisfied: python-dateutil>=2.6.1 in /usr/local/lib/python3.6/dist-packages (from pandas>=0.23.0->geopandas) (2.8.1)\n",
            "Requirement already satisfied: six>=1.7 in /usr/local/lib/python3.6/dist-packages (from fiona->geopandas) (1.15.0)\n",
            "Requirement already satisfied: attrs>=17 in /usr/local/lib/python3.6/dist-packages (from fiona->geopandas) (19.3.0)\n",
            "Requirement already satisfied: click<8,>=4.0 in /usr/local/lib/python3.6/dist-packages (from fiona->geopandas) (7.1.2)\n",
            "Collecting cligj>=0.5\n",
            "  Downloading https://files.pythonhosted.org/packages/e4/be/30a58b4b0733850280d01f8bd132591b4668ed5c7046761098d665ac2174/cligj-0.5.0-py3-none-any.whl\n",
            "Collecting click-plugins>=1.0\n",
            "  Downloading https://files.pythonhosted.org/packages/e9/da/824b92d9942f4e472702488857914bdd50f73021efea15b4cad9aca8ecef/click_plugins-1.1.1-py2.py3-none-any.whl\n",
            "Collecting munch\n",
            "  Downloading https://files.pythonhosted.org/packages/cc/ab/85d8da5c9a45e072301beb37ad7f833cd344e04c817d97e0cc75681d248f/munch-2.5.0-py2.py3-none-any.whl\n",
            "Installing collected packages: pyproj, cligj, click-plugins, munch, fiona, geopandas\n",
            "Successfully installed click-plugins-1.1.1 cligj-0.5.0 fiona-1.8.13.post1 geopandas-0.8.1 munch-2.5.0 pyproj-2.6.1.post1\n"
          ],
          "name": "stdout"
        }
      ]
    },
    {
      "cell_type": "markdown",
      "metadata": {
        "id": "oHI6UzTCPbdu"
      },
      "source": [
        "\n",
        "\n",
        "---\n",
        "```\n",
        "[2] import geopandas as gpd\n",
        "```\n",
        "---\n",
        "\n",
        "\n",
        "\n",
        "* import\n",
        "  +  설치만 했다고 끝은 아닙니다. 실제로 사용하려면 설치한 패키지를 이제 불러와야(import) 합니다.\n",
        "* as\n",
        "  +  다만, 패키지 속의 함수를 앞으로 사용할 때마다 패키지 이름을 코드로 매번 입력해야 하는데, 이름이 너무 기니깐 \"gpd\"로 줄여서 쓰기로 합니다. \"as gpd\"를 쓰지 않고 \"import geopandas\"까지만 코드를 작성하면 앞으로 \"geopandas\" 속의 함수를 사용할 때마다 \"geopandas\"라는 글자를 계속 입력해야 합니다.\n"
      ]
    },
    {
      "cell_type": "code",
      "metadata": {
        "id": "xhk28HnJ0D1X"
      },
      "source": [
        "import geopandas as gpd"
      ],
      "execution_count": null,
      "outputs": []
    },
    {
      "cell_type": "markdown",
      "metadata": {
        "id": "h9VbKGNhocbt"
      },
      "source": [
        "---\n",
        "```\n",
        "[3] nk_map = gpd.read_file(\"/content/north_korea_map.shp\")\n",
        "```\n",
        "---\n",
        "*   north_korea_map.shp\n",
        "  + 도 단위로 나눈 북한 지도(shape file 형식) 파일입니다. \n",
        "\n",
        "*   read_file\n",
        "  + geopandas (**gpd!!!**) 속에서 정의된 함수로, shape 파일을 불러올 때 사용하는 함수입니다.\n",
        "\n",
        "* (\"/content/north_korea_map.shp\")\n",
        " + 저희가 사용하는 colab에서 파일이 저장된 경로는 \"/content/파일명\" 입니다.\n",
        "\n",
        "\n",
        "* nk_map = \n",
        "  + shape file을 geopandas의 read_file 함수로 읽어들인 후에, 그 내용물을 **nk_map**이라는 이름의 변수에 저장합니다. 여기서 변수명은 반드시 nk_map일 필요는 없으며, 원하는 대로 이름을 붙이면 되겠습니다.\n",
        "\n"
      ]
    },
    {
      "cell_type": "code",
      "metadata": {
        "id": "IveocX7vdkTq"
      },
      "source": [
        "nk_map = gpd.read_file(\"/content/north_korea_map.shp\")"
      ],
      "execution_count": null,
      "outputs": []
    },
    {
      "cell_type": "markdown",
      "metadata": {
        "id": "uSnZQGbiqG9c"
      },
      "source": [
        "---\n",
        "```\n",
        "[4] nk_map.head()\n",
        "```\n",
        "---\n",
        " *  nk_map.head\n",
        "   + 데이터를 잘 읽어들였는지 확인해보기 위해서, 데이터 파일이 저장된 변수 nk_map을 화면상으로 출력해봅니다.\n",
        "       - 분석 중 시각화\n",
        " * .head()\n",
        "   +  다만, 데이터 전체를 출력하면 너무 길수도 있기 때문에 머릿부분의 5개 행만 출력해봅니다. 기본(default)이 5개 행이며, head(3)은 3개 행을, head(9)는 9개 행을 출력하는 식입니다.\n"
      ]
    },
    {
      "cell_type": "code",
      "metadata": {
        "id": "HJy9vHOiHiaK"
      },
      "source": [
        ""
      ],
      "execution_count": null,
      "outputs": []
    },
    {
      "cell_type": "code",
      "metadata": {
        "id": "F-fSEH5VzTkr"
      },
      "source": [
        ""
      ],
      "execution_count": null,
      "outputs": []
    },
    {
      "cell_type": "markdown",
      "metadata": {
        "id": "sCFHE36Zqfmd"
      },
      "source": [
        "---\n",
        "```\n",
        "[5] nk_map.plot( figsize = (8,8) )\n",
        "```\n",
        "---\n",
        "*   .plot\n",
        " + geopandas 변수(nk_map라는 이름의 변수)에 저장되어 있는 데이터의 위치정보 속성을 바탕으로 그림을 그려줍니다.\n",
        "        - 분석 중 시각화\n",
        "\n",
        "*   figsize = (8, 8)\n",
        " + 가로와 세로가 각각 8인치인 크기로 그림을 그리는 옵션입니다.\n",
        "\n",
        "\n"
      ]
    },
    {
      "cell_type": "code",
      "metadata": {
        "id": "voo4G3MBdp6G"
      },
      "source": [
        ""
      ],
      "execution_count": null,
      "outputs": []
    },
    {
      "cell_type": "markdown",
      "metadata": {
        "id": "17j0Np9ds4c5"
      },
      "source": [
        "---\n",
        "```\n",
        "[6] import pandas as pd\n",
        "```\n",
        "---\n",
        "* import\n",
        "  +  colab에서 기본으로 설치된 상태로 제공하는 pandas 패키지를 불러옵니다.\n",
        "\n",
        "* pandas\n",
        "\n",
        "  + csv나 엑셀파일 등으로 만들어진 형식의 수치 데이터를 다룰 때 사용하는 파이썬의 대표적인 패키지입니다.\n",
        "  + Wes Mikinney라는 사람이 금융 패널 데이터를 분석하는 데에 어려움을 겪다가, 2008년, 파이썬으로 계량경제학 패키지를 만들기 시작합니다. 그 결과, 단어 \"**Pan**el **da**ta\"에서 착안한 pandas라는 이름의 파이썬 패키지가 탄생하였습니다.\n",
        "\n",
        "* as\n",
        "  +  다만, 패키지 속의 함수를 앞으로 사용할 때마다 패키지 이름을 코드로 매번 입력해야 하는데, 이름이 기니깐 \"pd\"로 줄여서 쓰기로 합니다. \"as pd\"를 쓰지 않고 \"import pandas\"까지만 코드를 작성하면 앞으로 \"pandas\" 속의 함수를 사용할 때마다 \"pandas\"라는 글자를 계속 입력해야 합니다.\n"
      ]
    },
    {
      "cell_type": "code",
      "metadata": {
        "id": "zyjAwObandXp"
      },
      "source": [
        "import pandas as pd"
      ],
      "execution_count": null,
      "outputs": []
    },
    {
      "cell_type": "markdown",
      "metadata": {
        "id": "Bq-K8Izsv9Nr"
      },
      "source": [
        "---\n",
        "```\n",
        "[7] nk_rfgs = pd.read_csv(\"/content/north_korean_refugees.csv\")\n",
        "```\n",
        "---\n",
        "*   pd.read_csv( )\n",
        "  + pandas 패키지 속의 read_csv 함수를 사용하여 csv 파일을 읽어들입니다.\n",
        "*   \"/content/north_korean_refugees.csv\"\n",
        "  + 저희가 사용하는 colab에서 파일이 저장된 경로는 \"/content/파일명\" 입니다.\n",
        "*   nk_rfgs = \n",
        "  + csv 파일을 pandas로 읽어들였으면 그 내용물을 nk_rfgs라는 이름의 변수에 저장합니다. 이때, 반드시 변수의 이름을 nk_rfgs라고 둘 필요는 없습니다. 원하는 이름을 적어도 되겠습니다.\n",
        "\n"
      ]
    },
    {
      "cell_type": "code",
      "metadata": {
        "id": "sdt_hjBddxKA"
      },
      "source": [
        "nk_rfgs = pd.read_csv(\"/content/north_korean_refugees.csv\")"
      ],
      "execution_count": null,
      "outputs": []
    },
    {
      "cell_type": "markdown",
      "metadata": {
        "id": "x7l9HDf5znZx"
      },
      "source": [
        "---\n",
        "```\n",
        "[8] nk_rfgs.head()\n",
        "```\n",
        "---\n",
        " *  nk_rfgs\n",
        " + 데이터를 잘 읽어들였는지 확인해보기 위해서, 데이터 파일이 저장된 변수 nk_rfgs를 화면상으로 출력해봅니다.\n",
        "     - 분석 중 시각화\n",
        "* .head()\n",
        " +  다만, 데이터 전체를 출력하면 너무 길수도 있기 때문에 머릿부분의 5개 행만 출력해봅니다. 기본(default)이 5개 행이며, head(3)은 3개 행을, head(9)는 9개 행을 출력하는 식입니다."
      ]
    },
    {
      "cell_type": "code",
      "metadata": {
        "id": "RBGMen7_ewt1"
      },
      "source": [
        ""
      ],
      "execution_count": null,
      "outputs": []
    },
    {
      "cell_type": "markdown",
      "metadata": {
        "id": "th7bgTRGz092"
      },
      "source": [
        "\n",
        "---\n",
        "```\n",
        "[9] merged_data = nk_map.merge(nk_rfgs, on='ADM1_EN')\n",
        "```\n",
        "---\n",
        "*   merge\n",
        "  + geopandas에서 제공하는 함수로, 서로 다른 데이터 파일을 하나로 병합할 때 사용합니다.\n",
        "  + 기준 데이터 . merge (대상 데이터, on = '공통 변수')\n",
        "*  병합 방법\n",
        "  +  Shape file과 CSV file 모두 북한의 도(강원도, 함경북도, 평안남도, 자강도, 평양 등등)를 구분하는 변수가 'ADM1_EN'이라는 이름으로 되어있습니다.\n",
        "  + 따라서 'ADM1_EN'을 공통 변수로 두면 됩니다.\n",
        "     - 통일부의 탈북민 수 데이터를 다운로드해서 csv 형식으로 저장할 때 일부러 변수 이름을 ADM1_EN으로 두었습니다.\n",
        "     - 나아가 'ADM1_EN' 열에 있는 북한 각 도의 명칭도 영문으로 일치시켰습니다.\n",
        "\n"
      ]
    },
    {
      "cell_type": "code",
      "metadata": {
        "id": "nIBAZbB8ezF9"
      },
      "source": [
        "merged_data = nk_map.merge(nk_rfgs, on='ADM1_EN')"
      ],
      "execution_count": null,
      "outputs": []
    },
    {
      "cell_type": "markdown",
      "metadata": {
        "id": "tu5wW0YD0DIH"
      },
      "source": [
        "---\n",
        "```\n",
        "[10] merged_data.head()\n",
        "```\n",
        "---\n",
        " *  merged_data\n",
        " + 데이터를 잘 읽어들였는지 확인해보기 위해서, 데이터 파일이 저장된 변수 merged_data를 화면상으로 출력해봅니다.\n",
        "     - 분석 중 시각화\n",
        "* .head()\n",
        " +  다만, 데이터 전체를 출력하면 너무 길 수도 있으므로, 머릿부분의 5개 행만 출력해봅니다. 기본(default)이 5개 행이며, head(3)은 3개 행을, head(9)는 9개 행을 출력하는 식입니다."
      ]
    },
    {
      "cell_type": "code",
      "metadata": {
        "id": "yt0-mMA7WX8I"
      },
      "source": [
        ""
      ],
      "execution_count": null,
      "outputs": []
    },
    {
      "cell_type": "markdown",
      "metadata": {
        "id": "sDJoLU-s107n"
      },
      "source": [
        "---\n",
        "```\n",
        "[11] merged_data.plot( column = 'Refugees', legend = True, cmap = 'jet', figsize = (8,8) )\n",
        "```\n",
        "---\n",
        "*   .plot\n",
        " + geopandas 변수(merged_data라는 이름의 변수)에 저장되어 있는 데이터의 위치정보 속성을 바탕으로 그림을 그려줍니다.\n",
        "\n",
        "* column = 'Refugees'\n",
        "\n",
        " + 데이터 속의 Refugees라는 변수를 기준으로 우리가 그리고자 하는 '단계구분도'(choropleth)를 그려줍니다.\n",
        "\n",
        "* legend = True\n",
        "\n",
        "  + 범례를 보여줍니다.\n",
        "\n",
        "* cmap = 'jet'\n",
        "\n",
        "  + 그림을 그릴 때 쓰는 팔레트와 같습니다. 색상을 선택하는 옵션입니다. 여기에서는 'jet'라는 색상을 골라보았습니다. \n",
        "  \n",
        "  (구글 검색 키워드: colormaps python)\n",
        "\n",
        "*   figsize = (8, 8)\n",
        " + 가로와 세로가 각각 8인치인 크기로 그림을 그리는 옵션입니다.\n"
      ]
    },
    {
      "cell_type": "code",
      "metadata": {
        "id": "3VYHgApvmo_T",
        "colab": {
          "base_uri": "https://localhost:8080/",
          "height": 484
        },
        "outputId": "22b35fa1-b552-46b3-f53f-e1bae767919d"
      },
      "source": [
        "merged_data.plot( column = 'Refugees', legend = True, cmap = 'jet', figsize = (8,8) )"
      ],
      "execution_count": null,
      "outputs": [
        {
          "output_type": "execute_result",
          "data": {
            "text/plain": [
              "<matplotlib.axes._subplots.AxesSubplot at 0x7f95f3ece6d8>"
            ]
          },
          "metadata": {
            "tags": []
          },
          "execution_count": 7
        },
        {
          "output_type": "display_data",
          "data": {
            "image/png": "[encoded data removed]",
            "text/plain": [
              "<Figure size 576x576 with 2 Axes>"
            ]
          },
          "metadata": {
            "tags": [],
            "needs_background": "light"
          }
        }
      ]
    },
    {
      "cell_type": "code",
      "metadata": {
        "id": "iR_sC_g-Ohtt"
      },
      "source": [
        ""
      ],
      "execution_count": null,
      "outputs": []
    }
  ]
}